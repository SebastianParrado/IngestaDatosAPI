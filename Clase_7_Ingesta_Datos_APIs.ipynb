{
 "cells": [
  {
   "cell_type": "markdown",
   "id": "74985a2b",
   "metadata": {},
   "source": [
    "# Ingesta de Datos desde APIs con Python\n",
    "\n",
    "Importar datos desde una API nos permite tener información actualizada y en tiempo real.\n",
    "\n",
    "Este enfoque ahorra tiempo y garantiza que la información que presentes sea precisa y relevante.\n",
    "\n",
    "Una API es un puente que permite que diferentes aplicaciones se comuniquen entre sí.\n"
   ]
  },
  {
   "cell_type": "markdown",
   "id": "4339a04b",
   "metadata": {},
   "source": [
    "## 1. Entendiendo la notación JSON\n",
    "\n",
    "JSON, o Notación de Objetos en JavaScript, es ligero y fácil de leer tanto para máquinas como para humanos\n",
    "\n",
    "La API devuelve los datos en JSON de una forma similar a como se muestra a continuación:\n",
    "\n",
    "Este formato es similar a los diccionarios de Python\n"
   ]
  },
  {
   "cell_type": "code",
   "execution_count": 1,
   "id": "013bc391",
   "metadata": {},
   "outputs": [],
   "source": [
    "# Código en formato JSON\n",
    "# {\n",
    "#  \"main\": {\n",
    "#   \"temp\": 293.15\n",
    "#  },\n",
    "#  \"weather\": [\n",
    "#    {\n",
    "#      \"description\": \"clear sky\"\n",
    "#    }\n",
    "#  ],\n",
    "#  \"name\": \"London\"\n",
    "#}"
   ]
  },
  {
   "cell_type": "markdown",
   "id": "600724bc",
   "metadata": {},
   "source": [
    "## 2. Creando archivo de configuración JSON para evitar que mi clave API se filtre\n",
    "\n",
    "### 2.1. Crear el archivo config.json\n"
   ]
  },
  {
   "cell_type": "code",
   "execution_count": 2,
   "id": "153262a0",
   "metadata": {},
   "outputs": [],
   "source": [
    "# Se crea un archivo .json con el siguiente contenido\n",
    "#{\n",
    "#  \"api_key\": \"abcd1234efgh5678ijkl\" # Clave API de ejemplo\n",
    "#}"
   ]
  },
  {
   "cell_type": "markdown",
   "id": "9634f7c6",
   "metadata": {},
   "source": [
    "### 2.2. Cargar clave desde Python\n",
    "\n",
    "#### 2.2.1. ¿Qué hace la línea `with open(...) as f:` de la celda de abajo?\n",
    "\n",
    "Es una forma segura y ordenada de abrir archivos. Su ventaja es que con este método, Python se encarga automáticamente de cerrar el archivo al final del bloque, incluso si hay errores.\n",
    "\n",
    "`with open('config.json') as f:`\n",
    "\n",
    "Es equivalente a\n",
    "\n",
    "`f = open('config.json')`\n",
    "\n",
    "`# ... hacer cosas ...`\n",
    "\n",
    "`f.close()`\n",
    "\n",
    "#### 2.2.1.1. Ventajas de usar with:\n",
    "\n",
    "- Evita errores por archivos abiertos.\n",
    "- Más limpio y profesional.\n",
    "- Más seguro si trabajas con muchos archivos o datos sensibles.\n"
   ]
  },
  {
   "cell_type": "markdown",
   "id": "451632b8",
   "metadata": {},
   "source": [
    "#### 2.2.1.2. ¿Qué hace `pd.json_normalize()` de la celda de abajo?\n",
    "\n",
    "Convierte un diccionario JSON anidado (como el que devuelve `response.json()`) en un DataFrame plano de pandas, separando las claves internas con puntos (`.`).\n"
   ]
  },
  {
   "cell_type": "code",
   "execution_count": 3,
   "id": "7f8d7dbe",
   "metadata": {},
   "outputs": [],
   "source": [
    "#import json\n",
    "#\n",
    "#with open('config.json') as f:\n",
    "#    config = json.load(f) # Convierte todo el contenido del archivo JSON en un diccionario de Python \n",
    "#                          # (con claves/keys y valores/values)\n",
    "#api_key = config['api_key'] # Extrae el valor asociado a la clave \"api_key\" dentro del diccionario config"
   ]
  },
  {
   "cell_type": "code",
   "execution_count": 4,
   "id": "5ca64558",
   "metadata": {},
   "outputs": [
    {
     "name": "stdout",
     "output_type": "stream",
     "text": [
      "                                             weather      base  visibility  \\\n",
      "0  [{'id': 802, 'main': 'Clouds', 'description': ...  stations       10000   \n",
      "\n",
      "           dt  timezone       id                 name  cod  coord.lon  \\\n",
      "0  1751398572      3600  2634341  City of Westminster  200      -0.12   \n",
      "\n",
      "   coord.lat  ...  main.sea_level  main.grnd_level  wind.speed  wind.deg  \\\n",
      "0       51.5  ...            1014             1009        4.63        40   \n",
      "\n",
      "   clouds.all  sys.type   sys.id  sys.country  sys.sunrise  sys.sunset  \n",
      "0          25         2  2075535           GB   1751341655  1751401249  \n",
      "\n",
      "[1 rows x 26 columns]\n"
     ]
    }
   ],
   "source": [
    "# Importando información de una API\n",
    "import pandas as pd\n",
    "import requests\n",
    "import json\n",
    "\n",
    "# Realizar una solicitud GET\n",
    "lat = 51.50 # Localización vertical. Es decir, Norte-Sur\n",
    "lon = -0.12 # Localización horizontal. Es decir, Oriente-Occidente\n",
    "#city = 'London'\n",
    "\n",
    "with open('config.json') as f:\n",
    "    config = json.load(f) # Convierte todo el contenido del archivo JSON en un diccionario de Python \n",
    "#                         # (con claves/keys y valores/values)\n",
    "\n",
    "# Para obtener una API key es necesario crear una cuenta en OpenWeatherMap\n",
    "# La API key es una contraseña personal, por eso traigo el dato desde un archivo aparte. \n",
    "# Así, al compartir este código, no se filtra mi contraseña\n",
    "\n",
    "api_key = config['api_key'] # Extrae el valor asociado a la clave \"api_key\" dentro del diccionario config\n",
    "\n",
    "url = f'https://api.openweathermap.org/data/2.5/weather?lat={lat}&lon={lon}&appid={api_key}&units=metric&lang=es'\n",
    "\n",
    "response = requests.get(url)\n",
    "\n",
    "# Usando condicionales para consultar una tabla y mostrar las primeras filas si al consulta fue exitosa.\n",
    "\n",
    "if response.status_code == 200:\n",
    "    weather_data = response.json() # Diccionario anidado\n",
    "    df = pd.json_normalize(weather_data) # Convirtiendo el diccionario a un DataFrame\n",
    "    print(df.head())\n",
    "# Si hay error, mostramos un mensaje explicativo\n",
    "else:\n",
    "    print(f'Error en la solicitud: {response.status_code}')\n",
    "\n",
    "# Siempre cerramos la conexión para liberar recursos"
   ]
  },
  {
   "cell_type": "markdown",
   "id": "315485ca",
   "metadata": {},
   "source": [
    "### 2.3. Accediendo a un dato desde diccionario y desde DataFrame\n"
   ]
  },
  {
   "cell_type": "code",
   "execution_count": 5,
   "id": "a1ee1ece",
   "metadata": {},
   "outputs": [
    {
     "name": "stdout",
     "output_type": "stream",
     "text": [
      "Temperatura actual: \n",
      "28.24 °C\n"
     ]
    }
   ],
   "source": [
    "temperature_dict = weather_data['main']['temp'] # Accediendo a datos desde el diccionario\n",
    "print(f'Temperatura actual: \\n{temperature_dict} °C')"
   ]
  },
  {
   "cell_type": "code",
   "execution_count": 6,
   "id": "5a644264",
   "metadata": {},
   "outputs": [
    {
     "name": "stdout",
     "output_type": "stream",
     "text": [
      "Temperatura actual en °C: \n",
      "0    28.24\n",
      "Name: main.temp, dtype: float64\n"
     ]
    }
   ],
   "source": [
    "temperature_df = df['main.temp'] # Accediendo a datos desde el Dataframe\n",
    "print(f'Temperatura actual en °C: \\n{temperature_df}')"
   ]
  }
 ],
 "metadata": {
  "kernelspec": {
   "display_name": ".venv",
   "language": "python",
   "name": "python3"
  },
  "language_info": {
   "codemirror_mode": {
    "name": "ipython",
    "version": 3
   },
   "file_extension": ".py",
   "mimetype": "text/x-python",
   "name": "python",
   "nbconvert_exporter": "python",
   "pygments_lexer": "ipython3",
   "version": "3.13.5"
  }
 },
 "nbformat": 4,
 "nbformat_minor": 5
}
